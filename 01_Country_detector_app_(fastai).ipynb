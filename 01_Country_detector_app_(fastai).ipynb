{
  "nbformat": 4,
  "nbformat_minor": 0,
  "metadata": {
    "colab": {
      "name": "01 - Country detector app (fastai).ipynb",
      "provenance": [],
      "toc_visible": true,
      "authorship_tag": "ABX9TyMSchvGtnM7mwR+sA+vQCoG",
      "include_colab_link": true
    },
    "kernelspec": {
      "name": "python3",
      "display_name": "Python 3"
    },
    "language_info": {
      "name": "python"
    },
    "accelerator": "GPU",
    "widgets": {
      "application/vnd.jupyter.widget-state+json": {
        "9ed098ed995348fe8c2bc4bf6f7c9ec7": {
          "model_module": "@jupyter-widgets/controls",
          "model_name": "VBoxModel",
          "model_module_version": "1.5.0",
          "state": {
            "_view_name": "VBoxView",
            "_dom_classes": [],
            "_model_name": "VBoxModel",
            "_view_module": "@jupyter-widgets/controls",
            "_model_module_version": "1.5.0",
            "_view_count": null,
            "_view_module_version": "1.5.0",
            "box_style": "",
            "layout": "IPY_MODEL_108361aa288941dbbacf66008e4e230e",
            "_model_module": "@jupyter-widgets/controls",
            "children": [
              "IPY_MODEL_78c11eaccedc4d26a603c4eb84f5a7ab",
              "IPY_MODEL_e128dd6e10fc4547b47fa6c8e12d7451",
              "IPY_MODEL_6fa315b9d61042e09d2bdfbd7ba87b26",
              "IPY_MODEL_2daac8cc9102442ab15daa853bf28767"
            ]
          }
        },
        "108361aa288941dbbacf66008e4e230e": {
          "model_module": "@jupyter-widgets/base",
          "model_name": "LayoutModel",
          "model_module_version": "1.2.0",
          "state": {
            "_view_name": "LayoutView",
            "grid_template_rows": null,
            "right": null,
            "justify_content": null,
            "_view_module": "@jupyter-widgets/base",
            "overflow": null,
            "_model_module_version": "1.2.0",
            "_view_count": null,
            "flex_flow": null,
            "width": null,
            "min_width": null,
            "border": null,
            "align_items": null,
            "bottom": null,
            "_model_module": "@jupyter-widgets/base",
            "top": null,
            "grid_column": null,
            "overflow_y": null,
            "overflow_x": null,
            "grid_auto_flow": null,
            "grid_area": null,
            "grid_template_columns": null,
            "flex": null,
            "_model_name": "LayoutModel",
            "justify_items": null,
            "grid_row": null,
            "max_height": null,
            "align_content": null,
            "visibility": null,
            "align_self": null,
            "height": null,
            "min_height": null,
            "padding": null,
            "grid_auto_rows": null,
            "grid_gap": null,
            "max_width": null,
            "order": null,
            "_view_module_version": "1.2.0",
            "grid_template_areas": null,
            "object_position": null,
            "object_fit": null,
            "grid_auto_columns": null,
            "margin": null,
            "display": null,
            "left": null
          }
        },
        "78c11eaccedc4d26a603c4eb84f5a7ab": {
          "model_module": "@jupyter-widgets/controls",
          "model_name": "LabelModel",
          "model_module_version": "1.5.0",
          "state": {
            "_view_name": "LabelView",
            "style": "IPY_MODEL_886d2d30834645c1ab889a740ebb0246",
            "_dom_classes": [],
            "description": "",
            "_model_name": "LabelModel",
            "placeholder": "​",
            "_view_module": "@jupyter-widgets/controls",
            "_model_module_version": "1.5.0",
            "value": "Select your bear!",
            "_view_count": null,
            "_view_module_version": "1.5.0",
            "description_tooltip": null,
            "_model_module": "@jupyter-widgets/controls",
            "layout": "IPY_MODEL_231511d449ae49978548922273434ea3"
          }
        },
        "e128dd6e10fc4547b47fa6c8e12d7451": {
          "model_module": "@jupyter-widgets/controls",
          "model_name": "FileUploadModel",
          "model_module_version": "1.5.0",
          "state": {
            "_view_name": "FileUploadView",
            "_counter": 1,
            "style": "IPY_MODEL_c9253fb300fb4858a127998ff4a6c0f8",
            "_dom_classes": [],
            "description": "Upload",
            "multiple": false,
            "_model_name": "FileUploadModel",
            "data": [
              null
            ],
            "button_style": "",
            "_view_module": "@jupyter-widgets/controls",
            "_model_module_version": "1.5.0",
            "accept": "",
            "_view_count": null,
            "disabled": false,
            "_view_module_version": "1.5.0",
            "error": "",
            "description_tooltip": null,
            "metadata": [
              {
                "name": "Manchester-skyline[1].jpg",
                "type": "image/jpeg",
                "size": 2300425,
                "lastModified": 1642511860112
              }
            ],
            "_model_module": "@jupyter-widgets/controls",
            "layout": "IPY_MODEL_d84188398b4c4a17a20fa8c493bb74c7",
            "icon": "upload"
          }
        },
        "6fa315b9d61042e09d2bdfbd7ba87b26": {
          "model_module": "@jupyter-widgets/output",
          "model_name": "OutputModel",
          "model_module_version": "1.0.0",
          "state": {
            "_view_name": "OutputView",
            "msg_id": "",
            "_dom_classes": [],
            "_model_name": "OutputModel",
            "outputs": [
              {
                "output_type": "display_data",
                "data": {
                  "image/png": "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\n",
                  "text/plain": "<PIL.Image.Image image mode=RGB size=128x85 at 0x7F32D0ECCD10>"
                },
                "metadata": {}
              }
            ],
            "_view_module": "@jupyter-widgets/output",
            "_model_module_version": "1.0.0",
            "_view_count": null,
            "_view_module_version": "1.0.0",
            "layout": "IPY_MODEL_6bbd82f286ec471785652b71c191346c",
            "_model_module": "@jupyter-widgets/output"
          }
        },
        "2daac8cc9102442ab15daa853bf28767": {
          "model_module": "@jupyter-widgets/controls",
          "model_name": "LabelModel",
          "model_module_version": "1.5.0",
          "state": {
            "_view_name": "LabelView",
            "style": "IPY_MODEL_8b0c9c4fa65f4d0282d76a9f10d5750d",
            "_dom_classes": [],
            "description": "",
            "_model_name": "LabelModel",
            "placeholder": "​",
            "_view_module": "@jupyter-widgets/controls",
            "_model_module_version": "1.5.0",
            "value": "Prediction: nigeria; Probability: 0.7650",
            "_view_count": null,
            "_view_module_version": "1.5.0",
            "description_tooltip": null,
            "_model_module": "@jupyter-widgets/controls",
            "layout": "IPY_MODEL_5956e5a9c7ec43899db33d0cf06b6051"
          }
        },
        "886d2d30834645c1ab889a740ebb0246": {
          "model_module": "@jupyter-widgets/controls",
          "model_name": "DescriptionStyleModel",
          "model_module_version": "1.5.0",
          "state": {
            "_view_name": "StyleView",
            "_model_name": "DescriptionStyleModel",
            "description_width": "",
            "_view_module": "@jupyter-widgets/base",
            "_model_module_version": "1.5.0",
            "_view_count": null,
            "_view_module_version": "1.2.0",
            "_model_module": "@jupyter-widgets/controls"
          }
        },
        "231511d449ae49978548922273434ea3": {
          "model_module": "@jupyter-widgets/base",
          "model_name": "LayoutModel",
          "model_module_version": "1.2.0",
          "state": {
            "_view_name": "LayoutView",
            "grid_template_rows": null,
            "right": null,
            "justify_content": null,
            "_view_module": "@jupyter-widgets/base",
            "overflow": null,
            "_model_module_version": "1.2.0",
            "_view_count": null,
            "flex_flow": null,
            "width": null,
            "min_width": null,
            "border": null,
            "align_items": null,
            "bottom": null,
            "_model_module": "@jupyter-widgets/base",
            "top": null,
            "grid_column": null,
            "overflow_y": null,
            "overflow_x": null,
            "grid_auto_flow": null,
            "grid_area": null,
            "grid_template_columns": null,
            "flex": null,
            "_model_name": "LayoutModel",
            "justify_items": null,
            "grid_row": null,
            "max_height": null,
            "align_content": null,
            "visibility": null,
            "align_self": null,
            "height": null,
            "min_height": null,
            "padding": null,
            "grid_auto_rows": null,
            "grid_gap": null,
            "max_width": null,
            "order": null,
            "_view_module_version": "1.2.0",
            "grid_template_areas": null,
            "object_position": null,
            "object_fit": null,
            "grid_auto_columns": null,
            "margin": null,
            "display": null,
            "left": null
          }
        },
        "c9253fb300fb4858a127998ff4a6c0f8": {
          "model_module": "@jupyter-widgets/controls",
          "model_name": "ButtonStyleModel",
          "model_module_version": "1.5.0",
          "state": {
            "_view_name": "StyleView",
            "_model_name": "ButtonStyleModel",
            "_view_module": "@jupyter-widgets/base",
            "_model_module_version": "1.5.0",
            "_view_count": null,
            "button_color": null,
            "font_weight": "",
            "_view_module_version": "1.2.0",
            "_model_module": "@jupyter-widgets/controls"
          }
        },
        "d84188398b4c4a17a20fa8c493bb74c7": {
          "model_module": "@jupyter-widgets/base",
          "model_name": "LayoutModel",
          "model_module_version": "1.2.0",
          "state": {
            "_view_name": "LayoutView",
            "grid_template_rows": null,
            "right": null,
            "justify_content": null,
            "_view_module": "@jupyter-widgets/base",
            "overflow": null,
            "_model_module_version": "1.2.0",
            "_view_count": null,
            "flex_flow": null,
            "width": null,
            "min_width": null,
            "border": null,
            "align_items": null,
            "bottom": null,
            "_model_module": "@jupyter-widgets/base",
            "top": null,
            "grid_column": null,
            "overflow_y": null,
            "overflow_x": null,
            "grid_auto_flow": null,
            "grid_area": null,
            "grid_template_columns": null,
            "flex": null,
            "_model_name": "LayoutModel",
            "justify_items": null,
            "grid_row": null,
            "max_height": null,
            "align_content": null,
            "visibility": null,
            "align_self": null,
            "height": null,
            "min_height": null,
            "padding": null,
            "grid_auto_rows": null,
            "grid_gap": null,
            "max_width": null,
            "order": null,
            "_view_module_version": "1.2.0",
            "grid_template_areas": null,
            "object_position": null,
            "object_fit": null,
            "grid_auto_columns": null,
            "margin": null,
            "display": null,
            "left": null
          }
        },
        "8b0c9c4fa65f4d0282d76a9f10d5750d": {
          "model_module": "@jupyter-widgets/controls",
          "model_name": "DescriptionStyleModel",
          "model_module_version": "1.5.0",
          "state": {
            "_view_name": "StyleView",
            "_model_name": "DescriptionStyleModel",
            "description_width": "",
            "_view_module": "@jupyter-widgets/base",
            "_model_module_version": "1.5.0",
            "_view_count": null,
            "_view_module_version": "1.2.0",
            "_model_module": "@jupyter-widgets/controls"
          }
        },
        "5956e5a9c7ec43899db33d0cf06b6051": {
          "model_module": "@jupyter-widgets/base",
          "model_name": "LayoutModel",
          "model_module_version": "1.2.0",
          "state": {
            "_view_name": "LayoutView",
            "grid_template_rows": null,
            "right": null,
            "justify_content": null,
            "_view_module": "@jupyter-widgets/base",
            "overflow": null,
            "_model_module_version": "1.2.0",
            "_view_count": null,
            "flex_flow": null,
            "width": null,
            "min_width": null,
            "border": null,
            "align_items": null,
            "bottom": null,
            "_model_module": "@jupyter-widgets/base",
            "top": null,
            "grid_column": null,
            "overflow_y": null,
            "overflow_x": null,
            "grid_auto_flow": null,
            "grid_area": null,
            "grid_template_columns": null,
            "flex": null,
            "_model_name": "LayoutModel",
            "justify_items": null,
            "grid_row": null,
            "max_height": null,
            "align_content": null,
            "visibility": null,
            "align_self": null,
            "height": null,
            "min_height": null,
            "padding": null,
            "grid_auto_rows": null,
            "grid_gap": null,
            "max_width": null,
            "order": null,
            "_view_module_version": "1.2.0",
            "grid_template_areas": null,
            "object_position": null,
            "object_fit": null,
            "grid_auto_columns": null,
            "margin": null,
            "display": null,
            "left": null
          }
        },
        "6bbd82f286ec471785652b71c191346c": {
          "model_module": "@jupyter-widgets/base",
          "model_name": "LayoutModel",
          "model_module_version": "1.2.0",
          "state": {
            "_view_name": "LayoutView",
            "grid_template_rows": null,
            "right": null,
            "justify_content": null,
            "_view_module": "@jupyter-widgets/base",
            "overflow": null,
            "_model_module_version": "1.2.0",
            "_view_count": null,
            "flex_flow": null,
            "width": null,
            "min_width": null,
            "border": null,
            "align_items": null,
            "bottom": null,
            "_model_module": "@jupyter-widgets/base",
            "top": null,
            "grid_column": null,
            "overflow_y": null,
            "overflow_x": null,
            "grid_auto_flow": null,
            "grid_area": null,
            "grid_template_columns": null,
            "flex": null,
            "_model_name": "LayoutModel",
            "justify_items": null,
            "grid_row": null,
            "max_height": null,
            "align_content": null,
            "visibility": null,
            "align_self": null,
            "height": null,
            "min_height": null,
            "padding": null,
            "grid_auto_rows": null,
            "grid_gap": null,
            "max_width": null,
            "order": null,
            "_view_module_version": "1.2.0",
            "grid_template_areas": null,
            "object_position": null,
            "object_fit": null,
            "grid_auto_columns": null,
            "margin": null,
            "display": null,
            "left": null
          }
        }
      }
    }
  },
  "cells": [
    {
      "cell_type": "markdown",
      "metadata": {
        "id": "view-in-github",
        "colab_type": "text"
      },
      "source": [
        "<a href=\"https://colab.research.google.com/github/rypoll/detect_country/blob/main/01_Country_detector_app_(fastai).ipynb\" target=\"_parent\"><img src=\"https://colab.research.google.com/assets/colab-badge.svg\" alt=\"Open In Colab\"/></a>"
      ]
    },
    {
      "cell_type": "code",
      "execution_count": 1,
      "metadata": {
        "id": "kiNuzdBtedIv",
        "colab": {
          "base_uri": "https://localhost:8080/"
        },
        "outputId": "332e92fc-34d9-4ec2-db8a-599b38acc17b"
      },
      "outputs": [
        {
          "output_type": "stream",
          "name": "stdout",
          "text": [
            "\u001b[?25l\r\u001b[K     |▌                               | 10 kB 32.6 MB/s eta 0:00:01\r\u001b[K     |█                               | 20 kB 17.9 MB/s eta 0:00:01\r\u001b[K     |█▍                              | 30 kB 10.0 MB/s eta 0:00:01\r\u001b[K     |█▉                              | 40 kB 8.1 MB/s eta 0:00:01\r\u001b[K     |██▎                             | 51 kB 5.2 MB/s eta 0:00:01\r\u001b[K     |██▊                             | 61 kB 5.3 MB/s eta 0:00:01\r\u001b[K     |███▏                            | 71 kB 5.3 MB/s eta 0:00:01\r\u001b[K     |███▋                            | 81 kB 5.9 MB/s eta 0:00:01\r\u001b[K     |████                            | 92 kB 6.0 MB/s eta 0:00:01\r\u001b[K     |████▌                           | 102 kB 5.1 MB/s eta 0:00:01\r\u001b[K     |█████                           | 112 kB 5.1 MB/s eta 0:00:01\r\u001b[K     |█████▌                          | 122 kB 5.1 MB/s eta 0:00:01\r\u001b[K     |██████                          | 133 kB 5.1 MB/s eta 0:00:01\r\u001b[K     |██████▍                         | 143 kB 5.1 MB/s eta 0:00:01\r\u001b[K     |██████▉                         | 153 kB 5.1 MB/s eta 0:00:01\r\u001b[K     |███████▎                        | 163 kB 5.1 MB/s eta 0:00:01\r\u001b[K     |███████▊                        | 174 kB 5.1 MB/s eta 0:00:01\r\u001b[K     |████████▏                       | 184 kB 5.1 MB/s eta 0:00:01\r\u001b[K     |████████▋                       | 194 kB 5.1 MB/s eta 0:00:01\r\u001b[K     |█████████                       | 204 kB 5.1 MB/s eta 0:00:01\r\u001b[K     |█████████▋                      | 215 kB 5.1 MB/s eta 0:00:01\r\u001b[K     |██████████                      | 225 kB 5.1 MB/s eta 0:00:01\r\u001b[K     |██████████▌                     | 235 kB 5.1 MB/s eta 0:00:01\r\u001b[K     |███████████                     | 245 kB 5.1 MB/s eta 0:00:01\r\u001b[K     |███████████▍                    | 256 kB 5.1 MB/s eta 0:00:01\r\u001b[K     |███████████▉                    | 266 kB 5.1 MB/s eta 0:00:01\r\u001b[K     |████████████▎                   | 276 kB 5.1 MB/s eta 0:00:01\r\u001b[K     |████████████▊                   | 286 kB 5.1 MB/s eta 0:00:01\r\u001b[K     |█████████████▏                  | 296 kB 5.1 MB/s eta 0:00:01\r\u001b[K     |█████████████▋                  | 307 kB 5.1 MB/s eta 0:00:01\r\u001b[K     |██████████████                  | 317 kB 5.1 MB/s eta 0:00:01\r\u001b[K     |██████████████▋                 | 327 kB 5.1 MB/s eta 0:00:01\r\u001b[K     |███████████████                 | 337 kB 5.1 MB/s eta 0:00:01\r\u001b[K     |███████████████▌                | 348 kB 5.1 MB/s eta 0:00:01\r\u001b[K     |████████████████                | 358 kB 5.1 MB/s eta 0:00:01\r\u001b[K     |████████████████▍               | 368 kB 5.1 MB/s eta 0:00:01\r\u001b[K     |████████████████▉               | 378 kB 5.1 MB/s eta 0:00:01\r\u001b[K     |█████████████████▎              | 389 kB 5.1 MB/s eta 0:00:01\r\u001b[K     |█████████████████▊              | 399 kB 5.1 MB/s eta 0:00:01\r\u001b[K     |██████████████████▏             | 409 kB 5.1 MB/s eta 0:00:01\r\u001b[K     |██████████████████▋             | 419 kB 5.1 MB/s eta 0:00:01\r\u001b[K     |███████████████████▏            | 430 kB 5.1 MB/s eta 0:00:01\r\u001b[K     |███████████████████▋            | 440 kB 5.1 MB/s eta 0:00:01\r\u001b[K     |████████████████████            | 450 kB 5.1 MB/s eta 0:00:01\r\u001b[K     |████████████████████▌           | 460 kB 5.1 MB/s eta 0:00:01\r\u001b[K     |█████████████████████           | 471 kB 5.1 MB/s eta 0:00:01\r\u001b[K     |█████████████████████▍          | 481 kB 5.1 MB/s eta 0:00:01\r\u001b[K     |█████████████████████▉          | 491 kB 5.1 MB/s eta 0:00:01\r\u001b[K     |██████████████████████▎         | 501 kB 5.1 MB/s eta 0:00:01\r\u001b[K     |██████████████████████▊         | 512 kB 5.1 MB/s eta 0:00:01\r\u001b[K     |███████████████████████▏        | 522 kB 5.1 MB/s eta 0:00:01\r\u001b[K     |███████████████████████▋        | 532 kB 5.1 MB/s eta 0:00:01\r\u001b[K     |████████████████████████▏       | 542 kB 5.1 MB/s eta 0:00:01\r\u001b[K     |████████████████████████▋       | 552 kB 5.1 MB/s eta 0:00:01\r\u001b[K     |█████████████████████████       | 563 kB 5.1 MB/s eta 0:00:01\r\u001b[K     |█████████████████████████▌      | 573 kB 5.1 MB/s eta 0:00:01\r\u001b[K     |██████████████████████████      | 583 kB 5.1 MB/s eta 0:00:01\r\u001b[K     |██████████████████████████▍     | 593 kB 5.1 MB/s eta 0:00:01\r\u001b[K     |██████████████████████████▉     | 604 kB 5.1 MB/s eta 0:00:01\r\u001b[K     |███████████████████████████▎    | 614 kB 5.1 MB/s eta 0:00:01\r\u001b[K     |███████████████████████████▊    | 624 kB 5.1 MB/s eta 0:00:01\r\u001b[K     |████████████████████████████▏   | 634 kB 5.1 MB/s eta 0:00:01\r\u001b[K     |████████████████████████████▊   | 645 kB 5.1 MB/s eta 0:00:01\r\u001b[K     |█████████████████████████████▏  | 655 kB 5.1 MB/s eta 0:00:01\r\u001b[K     |█████████████████████████████▋  | 665 kB 5.1 MB/s eta 0:00:01\r\u001b[K     |██████████████████████████████  | 675 kB 5.1 MB/s eta 0:00:01\r\u001b[K     |██████████████████████████████▌ | 686 kB 5.1 MB/s eta 0:00:01\r\u001b[K     |███████████████████████████████ | 696 kB 5.1 MB/s eta 0:00:01\r\u001b[K     |███████████████████████████████▍| 706 kB 5.1 MB/s eta 0:00:01\r\u001b[K     |███████████████████████████████▉| 716 kB 5.1 MB/s eta 0:00:01\r\u001b[K     |████████████████████████████████| 720 kB 5.1 MB/s \n",
            "\u001b[K     |████████████████████████████████| 189 kB 66.5 MB/s \n",
            "\u001b[K     |████████████████████████████████| 1.2 MB 56.6 MB/s \n",
            "\u001b[K     |████████████████████████████████| 46 kB 5.3 MB/s \n",
            "\u001b[K     |████████████████████████████████| 56 kB 5.9 MB/s \n",
            "\u001b[K     |████████████████████████████████| 51 kB 373 kB/s \n",
            "\u001b[?25hMounted at /content/gdrive\n"
          ]
        }
      ],
      "source": [
        "#hide\n",
        "!pip install -Uqq fastbook\n",
        "import fastbook\n",
        "fastbook.setup_book()\n",
        "from fastbook import *\n",
        "from fastai.vision.widgets import *"
      ]
    },
    {
      "cell_type": "markdown",
      "source": [
        "# New Section"
      ],
      "metadata": {
        "id": "HjitZtoAgiVb"
      }
    },
    {
      "cell_type": "code",
      "source": [
        "path = Path()\n",
        "learn_inf = load_learner(path/'export.pkl', cpu=True)\n",
        "btn_upload = widgets.FileUpload()\n",
        "out_pl = widgets.Output()\n",
        "lbl_pred = widgets.Label()"
      ],
      "metadata": {
        "id": "e2LFGyG3cVDu"
      },
      "execution_count": 36,
      "outputs": []
    },
    {
      "cell_type": "code",
      "source": [
        "def on_data_change(change):\n",
        "    lbl_pred.value = ''\n",
        "    img = PILImage.create(btn_upload.data[-1])\n",
        "    out_pl.clear_output()\n",
        "    with out_pl: display(img.to_thumb(128,128))\n",
        "    pred,pred_idx,probs = learn_inf.predict(img)\n",
        "    lbl_pred.value = f'Prediction: {pred}; Probability: {probs[pred_idx]:.04f}'"
      ],
      "metadata": {
        "id": "K-1j2LdCcLMU"
      },
      "execution_count": 37,
      "outputs": []
    },
    {
      "cell_type": "code",
      "source": [
        "btn_upload.observe(on_data_change, names=['data'])"
      ],
      "metadata": {
        "id": "1lDSzwB6dD3z"
      },
      "execution_count": 38,
      "outputs": []
    },
    {
      "cell_type": "code",
      "source": [
        "display(VBox([widgets.Label('Select your country pic!'), btn_upload, out_pl, lbl_pred]))"
      ],
      "metadata": {
        "colab": {
          "base_uri": "https://localhost:8080/",
          "height": 198,
          "referenced_widgets": [
            "9ed098ed995348fe8c2bc4bf6f7c9ec7",
            "108361aa288941dbbacf66008e4e230e",
            "78c11eaccedc4d26a603c4eb84f5a7ab",
            "e128dd6e10fc4547b47fa6c8e12d7451",
            "6fa315b9d61042e09d2bdfbd7ba87b26",
            "2daac8cc9102442ab15daa853bf28767",
            "886d2d30834645c1ab889a740ebb0246",
            "231511d449ae49978548922273434ea3",
            "c9253fb300fb4858a127998ff4a6c0f8",
            "d84188398b4c4a17a20fa8c493bb74c7",
            "8b0c9c4fa65f4d0282d76a9f10d5750d",
            "5956e5a9c7ec43899db33d0cf06b6051",
            "6bbd82f286ec471785652b71c191346c"
          ]
        },
        "id": "PX44Kg7tdHMT",
        "outputId": "d048eef6-1a41-4dfb-ff7a-62a9f1834f7a"
      },
      "execution_count": 39,
      "outputs": [
        {
          "output_type": "display_data",
          "data": {
            "application/vnd.jupyter.widget-view+json": {
              "model_id": "9ed098ed995348fe8c2bc4bf6f7c9ec7",
              "version_minor": 0,
              "version_major": 2
            },
            "text/plain": [
              "VBox(children=(Label(value='Select your bear!'), FileUpload(value={}, description='Upload'), Output(), Label(v…"
            ]
          },
          "metadata": {}
        },
        {
          "output_type": "display_data",
          "data": {
            "text/html": [
              ""
            ],
            "text/plain": [
              "<IPython.core.display.HTML object>"
            ]
          },
          "metadata": {}
        }
      ]
    }
  ]
}